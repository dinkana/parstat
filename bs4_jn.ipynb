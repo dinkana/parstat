{
 "cells": [
  {
   "cell_type": "code",
   "execution_count": 1,
   "metadata": {},
   "outputs": [],
   "source": [
    "import requests"
   ]
  },
  {
   "cell_type": "code",
   "execution_count": 2,
   "metadata": {},
   "outputs": [],
   "source": [
    "from bs4 import BeautifulSoup"
   ]
  },
  {
   "cell_type": "code",
   "execution_count": 3,
   "metadata": {},
   "outputs": [],
   "source": [
    "import csv"
   ]
  },
  {
   "cell_type": "code",
   "execution_count": 4,
   "metadata": {},
   "outputs": [],
   "source": [
    "import lxml"
   ]
  },
  {
   "cell_type": "code",
   "execution_count": 6,
   "metadata": {},
   "outputs": [],
   "source": [
    "url = 'https://www.binance.com/ru/markets'\n",
    "r = requests.get(url)\n",
    "soup = BeautifulSoup(r.text, 'lxml')"
   ]
  },
  {
   "cell_type": "code",
   "execution_count": 7,
   "metadata": {},
   "outputs": [],
   "source": [
    "coins = soup.findAll('div', class_='css-vlibs4')"
   ]
  },
  {
   "cell_type": "code",
   "execution_count": 8,
   "metadata": {},
   "outputs": [],
   "source": [
    "data = []"
   ]
  },
  {
   "cell_type": "code",
   "execution_count": 9,
   "metadata": {},
   "outputs": [],
   "source": [
    "coins = soup.findAll('div', class_='css-vlibs4')"
   ]
  },
  {
   "cell_type": "code",
   "execution_count": 10,
   "metadata": {},
   "outputs": [],
   "source": [
    "data = []"
   ]
  },
  {
   "cell_type": "code",
   "execution_count": 11,
   "metadata": {},
   "outputs": [],
   "source": [
    "for coins in coins:\n",
    "    coin = coins.find('div', class_='css-1ap5wc6').text\n",
    "    price = coins.find('div', class_='css-ovtrou').text\n",
    "    chance = coins.find('div', class_='css-1vgqjs4')\n",
    "    volume = coins.find('div', class_='css-102bt5g').text\n",
    "    capitalization = coins.find('div', class_='css-s779xv').text\n",
    "    try:\n",
    "        chance = coins.find('div', class_='css-1vgqjs4').text\n",
    "    except:\n",
    "        chance = coins.find('div', class_='css-1ca67uc').text\n",
    "\n",
    "    data.append([coin, price, chance, volume, capitalization])"
   ]
  },
  {
   "cell_type": "code",
   "execution_count": 12,
   "metadata": {},
   "outputs": [
    {
     "data": {
      "text/plain": [
       "[['Bitcoin', '$30,041.98000', '-4.76%', '41,960.28M', '$572,483.72M'],\n",
       " ['Ethereum', '$1,831.19000', '-5.44%', '21,670.29M', '$221,609.40M'],\n",
       " ['TetherUS', '$1.00000', '-0.38%', '68,826.31M', '$72,538.44M'],\n",
       " ['USD Coin', '$1.00000', '+0.00%', '6,225.25M', '$54,076.83M'],\n",
       " ['BNB', '$304.10000', '-4.25%', '1,659.78M', '$49,652.52M'],\n",
       " ['Cardano', '$0.58160', '-4.87%', '1,496.82M', '$19,622.61M'],\n",
       " ['Ripple', '$0.39740', '-4.54%', '1,603.38M', '$19,211.54M'],\n",
       " ['BUSD', '$1.00000', '+0.01%', '6,926.43M', '$18,034.27M'],\n",
       " ['Solana', '$40.43000', '-10.08%', '1,676.97M', '$13,744.71M'],\n",
       " ['Dogecoin', '$0.08147', '-7.60%', '728.35M', '$10,808.68M'],\n",
       " ['Polkadot', '$9.54000', '-8.09%', '657.79M', '$9,421.50M'],\n",
       " ['Wrapped Bitcoin', '$30,082.85000', '+0.02%', '417.42M', '$8,236.71M'],\n",
       " ['TRON', '$0.08285', '-7.71%', '1,499.67M', '$7,723.77M'],\n",
       " ['Avalanche', '$23.63000', '-8.27%', '742.74M', '$6,634.42M'],\n",
       " ['SHIBA INU', '$0.00001', '-6.78%', '418.61M', '$6,039.69M'],\n",
       " ['Polygon', '$0.60900', '-5.87%', '485.06M', '$4,845.31M'],\n",
       " ['Litecoin', '$63.40000', '-6.76%', '667.56M', '$4,464.45M'],\n",
       " ['Uniswap', '$5.26000', '-6.90%', '162.35M', '$3,780.78M'],\n",
       " ['NEAR Protocol', '$5.36000', '-8.43%', '566.21M', '$3,768.27M'],\n",
       " ['FTX Token', '$26.90000', '-5.58%', '73.76M', '$3,659.63M'],\n",
       " ['Monero', '$198.00000', '+0.56%', '233.34M', '$3,589.60M'],\n",
       " ['Bitcoin Cash', '$185.50000', '-7.57%', '2,601.77M', '$3,539.28M'],\n",
       " ['Stellar Lumens', '$0.14060', '-4.16%', '241.77M', '$3,504.81M'],\n",
       " ['ChainLink', '$6.99000', '-7.17%', '417.58M', '$3,264.39M'],\n",
       " ['Ethereum Classic', '$22.11000', '-6.43%', '391.54M', '$2,986.53M'],\n",
       " ['Cosmos', '$9.47000', '-8.50%', '251.86M', '$2,711.92M'],\n",
       " ['Algorand', '$0.38930', '-6.03%', '152.64M', '$2,673.38M'],\n",
       " ['Flow', '$2.47000', '-6.44%', '48.80M', '$2,559.41M'],\n",
       " ['VeChain', '$0.03104', '-6.73%', '193.83M', '$1,996.35M'],\n",
       " ['Hedera Hashgraph', '$0.09030', '-5.94%', '44.57M', '$1,872.94M'],\n",
       " ['Internet Computer', '$7.86000', '-3.32%', '115.15M', '$1,840.62M'],\n",
       " ['ApeCoin', '$6.23000', '-8.13%', '479.17M', '$1,820.32M'],\n",
       " ['Decentraland', '$0.98410', '-6.38%', '230.60M', '$1,814.75M'],\n",
       " ['Tezos', '$1.91000', '-8.78%', '88.06M', '$1,712.66M'],\n",
       " ['Elrond eGold', '$76.35000', '-4.74%', '64.55M', '$1,681.28M'],\n",
       " ['The Sandbox', '$1.33000', '-5.17%', '383.23M', '$1,639.44M'],\n",
       " ['Filecoin', '$7.47000', '-6.63%', '261.26M', '$1,592.61M'],\n",
       " ['Aave', '$106.70000', '-8.49%', '284.42M', '$1,481.21M'],\n",
       " ['Zcash', '$89.60000', '-4.38%', '132.83M', '$1,300.67M'],\n",
       " ['TrueUSD', '$1.00000', '+0.00%', '130.82M', '$1,263.84M'],\n",
       " ['EOS', '$1.27000', '-6.88%', '377.49M', '$1,258.63M'],\n",
       " ['Axie Infinity', '$20.29000', '-10.22%', '238.25M', '$1,235.81M'],\n",
       " ['Theta Token', '$1.21000', '-9.98%', '90.28M', '$1,210.00M'],\n",
       " ['Maker', '$1,223.00000', '-6.85%', '99.15M', '$1,195.64M'],\n",
       " ['Klaytn', '$0.41300', '-7.61%', '51.96M', '$1,174.18M'],\n",
       " ['Waves', '$9.64000', '+10.05%', '3,219.27M', '$1,045.21M'],\n",
       " ['Helium', '$8.52000', '-8.78%', '25.00M', '$1,012.90M'],\n",
       " ['The Graph', '$0.14620', '-9.25%', '90.06M', '$1,008.78M'],\n",
       " ['THORChain', '$2.87000', '-7.20%', '144.43M', '$949.07M'],\n",
       " ['MIOTA', '$0.34090', '-5.72%', '26.77M', '$947.54M']]"
      ]
     },
     "execution_count": 12,
     "metadata": {},
     "output_type": "execute_result"
    }
   ],
   "source": [
    "data"
   ]
  },
  {
   "cell_type": "code",
   "execution_count": null,
   "metadata": {},
   "outputs": [],
   "source": []
  }
 ],
 "metadata": {
  "interpreter": {
   "hash": "fbc01084f7ee8b9cd56d70bd2c2f703073271806e0f3d83d3044c772a6b1c17b"
  },
  "kernelspec": {
   "display_name": "Python 3.10.4 64-bit",
   "language": "python",
   "name": "python3"
  },
  "language_info": {
   "codemirror_mode": {
    "name": "ipython",
    "version": 3
   },
   "file_extension": ".py",
   "mimetype": "text/x-python",
   "name": "python",
   "nbconvert_exporter": "python",
   "pygments_lexer": "ipython3",
   "version": "3.10.4"
  },
  "orig_nbformat": 4
 },
 "nbformat": 4,
 "nbformat_minor": 2
}
