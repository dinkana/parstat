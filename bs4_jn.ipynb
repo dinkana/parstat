{
 "cells": [
  {
   "cell_type": "code",
   "execution_count": 26,
   "metadata": {},
   "outputs": [],
   "source": [
    "import requests\n",
    "from bs4 import BeautifulSoup\n",
    "import csv\n",
    "import xlsxwriter\n",
    "import lxml\n",
    "import pandas as pd\n",
    "import numpy"
   ]
  },
  {
   "cell_type": "code",
   "execution_count": 8,
   "metadata": {},
   "outputs": [],
   "source": [
    "url = 'https://www.binance.com/ru/markets'\n",
    "r = requests.get(url)\n",
    "soup = BeautifulSoup(r.text, 'lxml')"
   ]
  },
  {
   "cell_type": "code",
   "execution_count": 33,
   "metadata": {},
   "outputs": [],
   "source": [
    "coins = soup.findAll('div', class_='css-vlibs4')\n",
    "data = []\n",
    "\n",
    "for coins in coins:\n",
    "    coin = coins.find('div', class_='css-1ap5wc6').text\n",
    "    price = coins.find('div', class_='css-ovtrou').text\n",
    "    chance = coins.find('div', class_='css-1vgqjs4')\n",
    "    volume = coins.find('div', class_='css-102bt5g').text\n",
    "    capitalization = coins.find('div', class_='css-s779xv').text\n",
    "    try:\n",
    "        chance = coins.find('div', class_='css-1vgqjs4').text\n",
    "    except:\n",
    "        chance = coins.find('div', class_='css-1ca67uc').text\n",
    "\n",
    "    data.append([coin, price, chance, volume, capitalization])"
   ]
  },
  {
   "cell_type": "code",
   "execution_count": 37,
   "metadata": {},
   "outputs": [],
   "source": [
    "data_df = pd.DataFrame(data)\n",
    "data_df.columns = ['Название', 'Цена', 'Изм за 24ч','Объем за 24ч','Капитализация']\n",
    "data_df.to_excel('./data.xlsx', index=False, sheet_name='columns')"
   ]
  },
  {
   "cell_type": "code",
   "execution_count": null,
   "metadata": {},
   "outputs": [],
   "source": []
  }
 ],
 "metadata": {
  "interpreter": {
   "hash": "fbc01084f7ee8b9cd56d70bd2c2f703073271806e0f3d83d3044c772a6b1c17b"
  },
  "kernelspec": {
   "display_name": "Python 3.10.4 64-bit",
   "language": "python",
   "name": "python3"
  },
  "language_info": {
   "codemirror_mode": {
    "name": "ipython",
    "version": 3
   },
   "file_extension": ".py",
   "mimetype": "text/x-python",
   "name": "python",
   "nbconvert_exporter": "python",
   "pygments_lexer": "ipython3",
   "version": "3.10.4"
  },
  "orig_nbformat": 4
 },
 "nbformat": 4,
 "nbformat_minor": 2
}
